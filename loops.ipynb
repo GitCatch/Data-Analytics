{
 "cells": [
  {
   "cell_type": "code",
   "execution_count": 5,
   "metadata": {},
   "outputs": [
    {
     "name": "stdout",
     "output_type": "stream",
     "text": [
      "cherry\n",
      "tofu\n",
      "banana\n",
      "watermelon\n",
      "kiwi\n",
      "orange\n",
      "apple\n"
     ]
    }
   ],
   "source": [
    "fruits = ['cherry','tofu','banana','watermelon','kiwi','orange','apple' ]\n",
    "for fruit in fruits:\n",
    " print(fruit)"
   ]
  },
  {
   "cell_type": "code",
   "execution_count": 6,
   "metadata": {},
   "outputs": [
    {
     "name": "stdout",
     "output_type": "stream",
     "text": [
      "(0, 'cherry')\n",
      "(1, 'tofu')\n",
      "(2, 'banana')\n",
      "(3, 'watermelon')\n",
      "(4, 'kiwi')\n",
      "(5, 'orange')\n",
      "(6, 'apple')\n"
     ]
    }
   ],
   "source": [
    "for item in enumerate(fruits):\n",
    "    print(item)"
   ]
  },
  {
   "cell_type": "code",
   "execution_count": 16,
   "metadata": {},
   "outputs": [
    {
     "name": "stdout",
     "output_type": "stream",
     "text": [
      "watermelon\n"
     ]
    }
   ],
   "source": [
    "for idx,val in enumerate(fruits):\n",
    " if idx == 3:\n",
    "    break\n",
    "print(val)"
   ]
  },
  {
   "cell_type": "code",
   "execution_count": 8,
   "metadata": {},
   "outputs": [
    {
     "name": "stdout",
     "output_type": "stream",
     "text": [
      "1 4 7\n",
      "2 5 8\n",
      "3 6 9\n"
     ]
    }
   ],
   "source": [
    "x = [1,2,3]\n",
    "y = [4,5,6]\n",
    "z = [7,8,9]\n",
    "\n",
    "for i,j,k in zip(x,y,z):\n",
    "    print(i,j,k)"
   ]
  },
  {
   "cell_type": "code",
   "execution_count": 9,
   "metadata": {},
   "outputs": [
    {
     "name": "stdout",
     "output_type": "stream",
     "text": [
      "12 15 18 "
     ]
    }
   ],
   "source": [
    "for i,j,k in zip(x,y,z):\n",
    "    print(i+j+k, end = ' ')"
   ]
  },
  {
   "cell_type": "code",
   "execution_count": 11,
   "metadata": {},
   "outputs": [
    {
     "name": "stdout",
     "output_type": "stream",
     "text": [
      "1\n",
      "2\n",
      "3\n",
      "loop completd\n"
     ]
    }
   ],
   "source": [
    "for i in x:\n",
    "    print(i)\n",
    "else :\n",
    "    print('loop completd')"
   ]
  },
  {
   "cell_type": "code",
   "execution_count": 13,
   "metadata": {},
   "outputs": [
    {
     "name": "stdout",
     "output_type": "stream",
     "text": [
      "1\n",
      "2\n"
     ]
    }
   ],
   "source": [
    "for i in x:\n",
    "    if i==3:\n",
    "        break\n",
    "    print(i)\n",
    "else :\n",
    "    print('loop completd')"
   ]
  },
  {
   "cell_type": "code",
   "execution_count": 15,
   "metadata": {},
   "outputs": [
    {
     "name": "stdout",
     "output_type": "stream",
     "text": [
      "prime\n"
     ]
    }
   ],
   "source": [
    "x = 17\n",
    "for i in range(2,x):\n",
    "    if x % i == 0:\n",
    "        print('not prime')\n",
    "        break\n",
    "else:\n",
    "    print('prime')"
   ]
  },
  {
   "cell_type": "code",
   "execution_count": 17,
   "metadata": {},
   "outputs": [
    {
     "name": "stdout",
     "output_type": "stream",
     "text": [
      "you enterd 2\n",
      "you enterd 3\n",
      "you enterd 4\n",
      "you enterd 12\n"
     ]
    }
   ],
   "source": [
    "#while loop\n",
    "x = 0\n",
    "while x < 10:\n",
    "    x = int(input('enter a vlaue'))\n",
    "    print(f'you enterd {x}')\n"
   ]
  },
  {
   "cell_type": "code",
   "execution_count": 19,
   "metadata": {},
   "outputs": [
    {
     "name": "stdout",
     "output_type": "stream",
     "text": [
      "234 + 2334 = 2568\n"
     ]
    }
   ],
   "source": [
    "while 1:\n",
    "    a = int(input('enter value of a'))\n",
    "    b = int(input('enter value of b'))\n",
    "    total = a+b\n",
    "    print(f'{a} + {b} = {total}')\n",
    "    if input('do you want to continue y/n') == 'n':\n",
    "        break"
   ]
  },
  {
   "cell_type": "code",
   "execution_count": null,
   "metadata": {},
   "outputs": [],
   "source": [
    "#1.Write a program to print numbers from 1 to 10 using a for loop.\n",
    "#2.Write a program to print the multiplication table of a given number using a while loop.\n",
    "#3.Write a program to find the sum of all even numbers between 1 and 100 using a for loop.\n",
    "#4.Write a program to check if a given number is prime or not using a while loop.\n",
    "#5.Write a program to calculate the factorial of a number using a for loop.\n",
    "#6.Write a program to print the Fibonacci series up to a given limit using a while loop.\n",
    "#7.Write a program to find the largest element in an array using a for loop.\n",
    "#8.Write a program to reverse a given string using a while loop.\n",
    "#9.Write a program to print the ASCII values of all uppercase letters using a for loop.\n",
    "#10.Write a program to check if a given string is a palindrome using a while loop.\n",
    "#11.Write a program to calculate the average of a list of numbers using a for loop.\n",
    "#12.Write a program to find the smallest element in an array using a while loop.\n",
    "#13.Write a program to calculate the sum of digits of a number using a for loop.\n",
    "#14.Write a program to check if a given year is a leap year using a while loop.\n",
    "#15.Write a program to print the multiplication table of numbers from 1 to 5 using a for loop.\n",
    "#16.Write a program to find the factorial of a number using a while loop.\n",
    "#17.Write a program to count the number of vowels in a given string using a for loop.\n",
    "#18.Write a program to check if a given number is a perfect square using a while loop.\n",
    "#19.Write a program to find the largest and smallest elements in an array using a for loop.\n",
    "#20.Write a program to reverse the order of words in a sentence using a while loop.\n"
   ]
  },
  {
   "cell_type": "code",
   "execution_count": 39,
   "metadata": {},
   "outputs": [
    {
     "name": "stdout",
     "output_type": "stream",
     "text": [
      "1\n",
      "2\n",
      "3\n",
      "4\n",
      "5\n",
      "6\n",
      "7\n",
      "8\n",
      "9\n",
      "10\n"
     ]
    }
   ],
   "source": [
    "#1.Write a program to print numbers from 1 to 10 using a for loop.\n",
    "for i in range(1,11):\n",
    " print(i)\n"
   ]
  },
  {
   "cell_type": "code",
   "execution_count": 42,
   "metadata": {},
   "outputs": [
    {
     "name": "stdout",
     "output_type": "stream",
     "text": [
      "Mutiplication table\n",
      "2 x 1 = 2\n",
      "2 x 2 = 4\n",
      "2 x 3 = 6\n",
      "2 x 4 = 8\n",
      "2 x 5 = 10\n",
      "2 x 6 = 12\n",
      "2 x 7 = 14\n",
      "2 x 8 = 16\n",
      "2 x 9 = 18\n",
      "2 x 10 = 20\n"
     ]
    }
   ],
   "source": [
    "#2.Write a program to print the multiplication table of a given number using a while loop.\n",
    "num = int(input('Enter the number'))\n",
    "i = 1\n",
    "print('Mutiplication table')\n",
    "while i<=10:\n",
    "    result = num*i\n",
    "    print(num,'x',i,'=',result)\n",
    "    i+=1\n"
   ]
  },
  {
   "cell_type": "code",
   "execution_count": 34,
   "metadata": {},
   "outputs": [
    {
     "name": "stdout",
     "output_type": "stream",
     "text": [
      "sum = 2550\n"
     ]
    }
   ],
   "source": [
    "#3.Write a program to find the sum of all even numbers between 1 and 100 using a for loop.\n",
    "sum=0\n",
    "for i in range(101):\n",
    "  if i%2==0:\n",
    "    sum=sum+i\n",
    "print(\"sum =\",sum)"
   ]
  },
  {
   "cell_type": "code",
   "execution_count": 43,
   "metadata": {},
   "outputs": [
    {
     "name": "stdout",
     "output_type": "stream",
     "text": [
      "not a prime\n"
     ]
    }
   ],
   "source": [
    "#4.Write a program to check if a given number is prime or not using a while loop.\n",
    "number = int(input('enter the number'))\n",
    "while number % 2 == 0:\n",
    "    print('not a prime')\n",
    "    break\n",
    "else:\n",
    "    print('prime')"
   ]
  },
  {
   "cell_type": "code",
   "execution_count": null,
   "metadata": {},
   "outputs": [
    {
     "name": "stdout",
     "output_type": "stream",
     "text": [
      "The factorial of 6 is 720\n"
     ]
    }
   ],
   "source": [
    "#5.Write a program to calculate the factorial of a number using a for loop.\n",
    "n = int(input(\"Enter a number: \"))\n",
    "\n",
    "factorial = 1\n",
    "if n == 0:\n",
    "   print(\"The factorial of 0 is 1.\")\n",
    "else:\n",
    "   for i in range(1,n + 1):\n",
    "       factorial = factorial*i\n",
    "   print(\"The factorial of\",n,\"is\",factorial)"
   ]
  },
  {
   "cell_type": "code",
   "execution_count": null,
   "metadata": {},
   "outputs": [
    {
     "name": "stdout",
     "output_type": "stream",
     "text": [
      "fibonacci series\n",
      "0\n",
      "1\n",
      "1\n",
      "2\n",
      "3\n",
      "5\n",
      "8\n"
     ]
    }
   ],
   "source": [
    "#6.Write a program to print the Fibonacci series up to a given limit using a while loop.\n",
    "terms = int(input('enter the number'))\n",
    "n1 = 0\n",
    "n2 = 1\n",
    "count = 0\n",
    "if terms <= 0:\n",
    " print('enter a positive value')\n",
    "elif terms == 1:\n",
    " print(n1)\n",
    "else:\n",
    " print('fibonacci series')\n",
    "while count<terms:\n",
    " print(n1)\n",
    " nth = n1+n2\n",
    " n1 = n2\n",
    " n2 = nth\n",
    " count += 1"
   ]
  },
  {
   "cell_type": "code",
   "execution_count": null,
   "metadata": {},
   "outputs": [
    {
     "name": "stdout",
     "output_type": "stream",
     "text": [
      "largest number of array 96\n"
     ]
    }
   ],
   "source": [
    "#7.Write a program to find the largest element in an array using a for loop.\n",
    "arr = [75,96,2,3,4]\n",
    "max = arr[0]\n",
    "\n",
    "for i in range(0,len(arr)):\n",
    "    if(arr[i]>max):\n",
    "        max = arr[i]\n",
    "        print('largest number of array',+ max)\n"
   ]
  },
  {
   "cell_type": "code",
   "execution_count": null,
   "metadata": {},
   "outputs": [
    {
     "name": "stdout",
     "output_type": "stream",
     "text": [
      "Original hello world\n",
      "Reverse string dlrow olleh\n"
     ]
    }
   ],
   "source": [
    "#8.Write a program to reverse a given string using a while loop.\n",
    "str = \"hello world\"\n",
    "print(\"Original\",str)\n",
    "reverse_Str = \"\"\n",
    "count = len(str)\n",
    "while count > 0:\n",
    "    reverse_Str += str[ count - 1 ]\n",
    "    count = count - 1\n",
    "print (\"Reverse string\",reverse_Str)"
   ]
  },
  {
   "cell_type": "code",
   "execution_count": null,
   "metadata": {},
   "outputs": [
    {
     "name": "stdout",
     "output_type": "stream",
     "text": [
      "ASCII value: 65, Character:  A\n",
      "ASCII value: 66, Character:  B\n",
      "ASCII value: 67, Character:  C\n",
      "ASCII value: 68, Character:  D\n",
      "ASCII value: 69, Character:  E\n",
      "ASCII value: 70, Character:  F\n",
      "ASCII value: 71, Character:  G\n",
      "ASCII value: 72, Character:  H\n",
      "ASCII value: 73, Character:  I\n",
      "ASCII value: 74, Character:  J\n",
      "ASCII value: 75, Character:  K\n",
      "ASCII value: 76, Character:  L\n",
      "ASCII value: 77, Character:  M\n",
      "ASCII value: 78, Character:  N\n",
      "ASCII value: 79, Character:  O\n",
      "ASCII value: 80, Character:  P\n",
      "ASCII value: 81, Character:  Q\n",
      "ASCII value: 82, Character:  R\n",
      "ASCII value: 83, Character:  S\n",
      "ASCII value: 84, Character:  T\n",
      "ASCII value: 85, Character:  U\n",
      "ASCII value: 86, Character:  V\n",
      "ASCII value: 87, Character:  W\n",
      "ASCII value: 88, Character:  X\n",
      "ASCII value: 89, Character:  Y\n",
      "ASCII value: 90, Character:  Z\n"
     ]
    }
   ],
   "source": [
    "#9.Write a program to print the ASCII values of all uppercase letters using a for loop.\n",
    "for ch in range(65, 91):\n",
    "    print(\"ASCII value: \" + str(ch) + \", Character: \", chr(ch))\n",
    "\n",
    "\n"
   ]
  },
  {
   "cell_type": "code",
   "execution_count": null,
   "metadata": {},
   "outputs": [
    {
     "name": "stdout",
     "output_type": "stream",
     "text": [
      "string is palindrome\n"
     ]
    }
   ],
   "source": [
    "#10.Write a program to check if a given string is a palindrome using a while loop.\n",
    "string = input('Enter a Palindrome word')\n",
    "start = 0\n",
    "end = len(string)-1\n",
    "\n",
    "while start<end:\n",
    "    if string[start] != string[end]:\n",
    "        print('string is not palindrome')\n",
    "        break\n",
    "    start += 1\n",
    "    end -= 1\n",
    "else:\n",
    "    print('string is palindrome')"
   ]
  },
  {
   "cell_type": "code",
   "execution_count": null,
   "metadata": {},
   "outputs": [
    {
     "name": "stdout",
     "output_type": "stream",
     "text": [
      "The Average is 39.2\n"
     ]
    }
   ],
   "source": [
    "#11.Write a program to calculate the average of a list of numbers using a for loop.\n",
    "num = [34,22,21,54,65]\n",
    "total = 0\n",
    "count = 0\n",
    "\n",
    "for i in num:\n",
    "    total += i\n",
    "    count += 1\n",
    "average = total/count\n",
    "print('The Average is', average)"
   ]
  },
  {
   "cell_type": "code",
   "execution_count": null,
   "metadata": {},
   "outputs": [
    {
     "name": "stdout",
     "output_type": "stream",
     "text": [
      "Smallest number of array 2\n"
     ]
    }
   ],
   "source": [
    "#12.Write a program to find the smallest element in an array using a while loop.\n",
    "arr = [75,96,2,3,4]\n",
    "small = arr[0]\n",
    "\n",
    "for i in range(0,len(arr)):\n",
    "    if(arr[i]<small):\n",
    "        small = arr[i]\n",
    "        print('Smallest number of array',+ small)"
   ]
  },
  {
   "cell_type": "code",
   "execution_count": null,
   "metadata": {},
   "outputs": [
    {
     "name": "stdout",
     "output_type": "stream",
     "text": [
      "The sum of 5 is 15\n"
     ]
    }
   ],
   "source": [
    "#13.Write a program to calculate the sum of digits of a number using a for loop.\n",
    "num = int(input(\"Enter a number: \"))\n",
    "\n",
    "sum = num\n",
    "for i in range(num):\n",
    "       sum = sum+i\n",
    "print(\"The sum of\",num,\"is\",sum)\n"
   ]
  },
  {
   "cell_type": "code",
   "execution_count": null,
   "metadata": {},
   "outputs": [
    {
     "name": "stdout",
     "output_type": "stream",
     "text": [
      "2024 is a leap year\n"
     ]
    }
   ],
   "source": [
    "#14.Write a program to check if a given year is a leap year using a while loop.\n",
    "year = int(input('Enter a year'))\n",
    "leap_year = False\n",
    "while True:\n",
    " if year % 4 == 0:\n",
    "     if year % 100 != 0 or year % 400 == 0:\n",
    "      leap_year = True\n",
    "     break\n",
    " else:\n",
    "    break\n",
    "if leap_year:\n",
    "  print(year,'is a leap year')\n",
    "else:\n",
    "  print(year,'is not a leap year')\n"
   ]
  },
  {
   "cell_type": "code",
   "execution_count": null,
   "metadata": {},
   "outputs": [
    {
     "name": "stdout",
     "output_type": "stream",
     "text": [
      "Multiplication table of 1\n",
      "------------------------\n",
      "1 X 1 = 1\n",
      "1 X 2 = 2\n",
      "1 X 3 = 3\n",
      "1 X 4 = 4\n",
      "1 X 5 = 5\n",
      "1 X 6 = 6\n",
      "1 X 7 = 7\n",
      "1 X 8 = 8\n",
      "1 X 9 = 9\n",
      "1 X 10 = 10\n",
      "Multiplication table of 2\n",
      "------------------------\n",
      "2 X 1 = 2\n",
      "2 X 2 = 4\n",
      "2 X 3 = 6\n",
      "2 X 4 = 8\n",
      "2 X 5 = 10\n",
      "2 X 6 = 12\n",
      "2 X 7 = 14\n",
      "2 X 8 = 16\n",
      "2 X 9 = 18\n",
      "2 X 10 = 20\n",
      "Multiplication table of 3\n",
      "------------------------\n",
      "3 X 1 = 3\n",
      "3 X 2 = 6\n",
      "3 X 3 = 9\n",
      "3 X 4 = 12\n",
      "3 X 5 = 15\n",
      "3 X 6 = 18\n",
      "3 X 7 = 21\n",
      "3 X 8 = 24\n",
      "3 X 9 = 27\n",
      "3 X 10 = 30\n",
      "Multiplication table of 4\n",
      "------------------------\n",
      "4 X 1 = 4\n",
      "4 X 2 = 8\n",
      "4 X 3 = 12\n",
      "4 X 4 = 16\n",
      "4 X 5 = 20\n",
      "4 X 6 = 24\n",
      "4 X 7 = 28\n",
      "4 X 8 = 32\n",
      "4 X 9 = 36\n",
      "4 X 10 = 40\n",
      "Multiplication table of 5\n",
      "------------------------\n",
      "5 X 1 = 5\n",
      "5 X 2 = 10\n",
      "5 X 3 = 15\n",
      "5 X 4 = 20\n",
      "5 X 5 = 25\n",
      "5 X 6 = 30\n",
      "5 X 7 = 35\n",
      "5 X 8 = 40\n",
      "5 X 9 = 45\n",
      "5 X 10 = 50\n"
     ]
    }
   ],
   "source": [
    "#15.Write a program to print the multiplication table of numbers from 1 to 5 using a for loop.\n",
    "for i in range(1,6):\n",
    "    print('Multiplication table of',i)\n",
    "    print('------------------------')\n",
    "    for j in range(1,11):\n",
    "        result = i*j\n",
    "        print(i, 'X', j, '=', result )"
   ]
  },
  {
   "cell_type": "code",
   "execution_count": null,
   "metadata": {},
   "outputs": [],
   "source": []
  }
 ],
 "metadata": {
  "kernelspec": {
   "display_name": "base",
   "language": "python",
   "name": "python3"
  },
  "language_info": {
   "codemirror_mode": {
    "name": "ipython",
    "version": 3
   },
   "file_extension": ".py",
   "mimetype": "text/x-python",
   "name": "python",
   "nbconvert_exporter": "python",
   "pygments_lexer": "ipython3",
   "version": "3.10.10"
  },
  "orig_nbformat": 4
 },
 "nbformat": 4,
 "nbformat_minor": 2
}
