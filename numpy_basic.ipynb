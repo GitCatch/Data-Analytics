{
 "cells": [
  {
   "cell_type": "code",
   "execution_count": 2,
   "metadata": {},
   "outputs": [],
   "source": [
    "import numpy as np\n",
    "x = np.array([2,5,6])"
   ]
  },
  {
   "cell_type": "code",
   "execution_count": 6,
   "metadata": {},
   "outputs": [
    {
     "name": "stdout",
     "output_type": "stream",
     "text": [
      "[2 5 6]\n",
      "(3,)\n",
      "[[1 2 3]\n",
      " [4 5 6]]\n",
      "(2, 3)\n"
     ]
    }
   ],
   "source": [
    "print(x)\n",
    "print(x.shape)\n",
    "\n",
    "y = np.array([\n",
    "    [1,2,3],\n",
    "    [4,5,6]\n",
    "])\n",
    "print(y)\n",
    "print(y.shape)"
   ]
  },
  {
   "cell_type": "code",
   "execution_count": 8,
   "metadata": {},
   "outputs": [
    {
     "name": "stdout",
     "output_type": "stream",
     "text": [
      "[1.  1.2 1.4 1.6 1.8 2.  2.2 2.4 2.6 2.8 3.  3.2 3.4 3.6 3.8 4.  4.2 4.4\n",
      " 4.6 4.8 5.  5.2 5.4 5.6 5.8 6.  6.2 6.4 6.6 6.8 7.  7.2 7.4 7.6 7.8 8.\n",
      " 8.2 8.4 8.6 8.8 9.  9.2 9.4 9.6 9.8]\n",
      "(45,)\n"
     ]
    }
   ],
   "source": [
    "z = np.arange(1,10,.2)\n",
    "print(z)\n",
    "print(z.shape)"
   ]
  },
  {
   "cell_type": "code",
   "execution_count": 9,
   "metadata": {},
   "outputs": [
    {
     "name": "stdout",
     "output_type": "stream",
     "text": [
      "[ 1.          1.47368421  1.94736842  2.42105263  2.89473684  3.36842105\n",
      "  3.84210526  4.31578947  4.78947368  5.26315789  5.73684211  6.21052632\n",
      "  6.68421053  7.15789474  7.63157895  8.10526316  8.57894737  9.05263158\n",
      "  9.52631579 10.        ]\n"
     ]
    }
   ],
   "source": [
    "a = np.linspace(1,10,20)\n",
    "print(a)"
   ]
  },
  {
   "cell_type": "code",
   "execution_count": 12,
   "metadata": {},
   "outputs": [
    {
     "name": "stdout",
     "output_type": "stream",
     "text": [
      "[[1.  1.2 1.4 1.6 1.8]\n",
      " [2.  2.2 2.4 2.6 2.8]\n",
      " [3.  3.2 3.4 3.6 3.8]\n",
      " [4.  4.2 4.4 4.6 4.8]\n",
      " [5.  5.2 5.4 5.6 5.8]\n",
      " [6.  6.2 6.4 6.6 6.8]\n",
      " [7.  7.2 7.4 7.6 7.8]\n",
      " [8.  8.2 8.4 8.6 8.8]\n",
      " [9.  9.2 9.4 9.6 9.8]]\n",
      "[[[1.  1.2 1.4 1.6 1.8]\n",
      "  [2.  2.2 2.4 2.6 2.8]\n",
      "  [3.  3.2 3.4 3.6 3.8]]\n",
      "\n",
      " [[4.  4.2 4.4 4.6 4.8]\n",
      "  [5.  5.2 5.4 5.6 5.8]\n",
      "  [6.  6.2 6.4 6.6 6.8]]\n",
      "\n",
      " [[7.  7.2 7.4 7.6 7.8]\n",
      "  [8.  8.2 8.4 8.6 8.8]\n",
      "  [9.  9.2 9.4 9.6 9.8]]]\n"
     ]
    }
   ],
   "source": [
    "print(z.reshape(9,5))\n",
    "print(z.reshape(3,3,5))"
   ]
  },
  {
   "cell_type": "code",
   "execution_count": 15,
   "metadata": {},
   "outputs": [
    {
     "data": {
      "text/plain": [
       "array([[331, 548, 445],\n",
       "       [217, 548,  34],\n",
       "       [949, 101, 579]])"
      ]
     },
     "execution_count": 15,
     "metadata": {},
     "output_type": "execute_result"
    }
   ],
   "source": [
    "np.random.randint(1,1000,(3,3))"
   ]
  },
  {
   "cell_type": "code",
   "execution_count": 23,
   "metadata": {},
   "outputs": [
    {
     "name": "stdout",
     "output_type": "stream",
     "text": [
      "[[ 5  4  6]\n",
      " [ 8 13 12]]\n",
      "\n",
      "[[ 4  4  9]\n",
      " [16 40 36]]\n",
      "[[0.25  1.    1.   ]\n",
      " [1.    0.625 1.   ]]\n",
      "[[1 0 0]\n",
      " [0 5 0]]\n",
      "[[     1      4     27]\n",
      " [   256 390625  46656]]\n",
      "[[-3  0  0]\n",
      " [ 0 -3  0]]\n"
     ]
    }
   ],
   "source": [
    "a = np.array([\n",
    "    [1,2,3],\n",
    "    [4,5,6]\n",
    "])\n",
    "b = np.array([\n",
    "    [4,2,3],\n",
    "    [4,8,6]\n",
    "])\n",
    "print(f'{a+b}\\n')\n",
    "print(a*b)\n",
    "print(a/b)\n",
    "print(a%b)\n",
    "print(a**b)\n",
    "print(a-b)\n"
   ]
  },
  {
   "cell_type": "code",
   "execution_count": 26,
   "metadata": {},
   "outputs": [
    {
     "name": "stdout",
     "output_type": "stream",
     "text": [
      "[[17 38]\n",
      " [44 92]]\n",
      "[[17 38]\n",
      " [44 92]]\n",
      "[[17 38]\n",
      " [44 92]]\n"
     ]
    }
   ],
   "source": [
    "print(a.dot(b.T))\n",
    "print(a @ b.T)\n",
    "print(np.matmul(a,b.T))"
   ]
  },
  {
   "cell_type": "code",
   "execution_count": 31,
   "metadata": {},
   "outputs": [
    {
     "name": "stdout",
     "output_type": "stream",
     "text": [
      "21\n",
      "[5 7 9]\n",
      "[ 6 15]\n",
      "3.5\n",
      "1\n",
      "6\n",
      "1.707825127659933\n",
      "5\n",
      "0\n"
     ]
    }
   ],
   "source": [
    "print(a.sum()) # sum of all element\n",
    "print(a.sum(axis=0)) #sum of columns\n",
    "print(a.sum(axis=1)) #sum of rows\n",
    "print(a.mean())\n",
    "print(a.min())\n",
    "print(a.max())\n",
    "print(a.std()) #standard daviation\n",
    "print(a.argmax()) #index of maximum element\n",
    "print(a.argmin()) #index of minimum element"
   ]
  },
  {
   "cell_type": "code",
   "execution_count": 34,
   "metadata": {},
   "outputs": [
    {
     "name": "stdout",
     "output_type": "stream",
     "text": [
      "[[ 0.84147098  0.90929743  0.14112001]\n",
      " [-0.7568025  -0.95892427 -0.2794155 ]]\n",
      "[[ 0.54030231 -0.41614684 -0.9899925 ]\n",
      " [-0.65364362  0.28366219  0.96017029]]\n",
      "[[ 1.55740772 -2.18503986 -0.14254654]\n",
      " [ 1.15782128 -3.38051501 -0.29100619]]\n",
      "[[1.57079633        nan        nan]\n",
      " [       nan        nan        nan]]\n"
     ]
    },
    {
     "name": "stderr",
     "output_type": "stream",
     "text": [
      "C:\\Users\\Farhan\\AppData\\Local\\Temp\\ipykernel_1968\\3713717503.py:4: RuntimeWarning: invalid value encountered in arcsin\n",
      "  print(np.arcsin(a))\n"
     ]
    }
   ],
   "source": [
    "print(np.sin(a))\n",
    "print(np.cos(a))\n",
    "print(np.tan(a))\n",
    "print(np.arcsin(a))"
   ]
  },
  {
   "cell_type": "code",
   "execution_count": 36,
   "metadata": {},
   "outputs": [
    {
     "name": "stdout",
     "output_type": "stream",
     "text": [
      "[1 2 3]\n",
      "[1 4]\n",
      "1\n",
      "[[1 2]\n",
      " [4 5]]\n",
      "[[1 2 3]\n",
      " [4 5 6]]\n"
     ]
    }
   ],
   "source": [
    "print(a[0,:])\n",
    "print(a[:,0])\n",
    "print(a[0,0])\n",
    "print(a[:2,:2])\n",
    "print(a[:2])\n"
   ]
  },
  {
   "cell_type": "code",
   "execution_count": null,
   "metadata": {},
   "outputs": [],
   "source": []
  }
 ],
 "metadata": {
  "kernelspec": {
   "display_name": "base",
   "language": "python",
   "name": "python3"
  },
  "language_info": {
   "codemirror_mode": {
    "name": "ipython",
    "version": 3
   },
   "file_extension": ".py",
   "mimetype": "text/x-python",
   "name": "python",
   "nbconvert_exporter": "python",
   "pygments_lexer": "ipython3",
   "version": "3.10.10"
  },
  "orig_nbformat": 4
 },
 "nbformat": 4,
 "nbformat_minor": 2
}
