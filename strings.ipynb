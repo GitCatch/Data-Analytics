{
 "cells": [
  {
   "cell_type": "code",
   "execution_count": 5,
   "metadata": {},
   "outputs": [
    {
     "name": "stdout",
     "output_type": "stream",
     "text": [
      "this is a \n",
      "unicode string\n",
      "this is a \\nraw string\n"
     ]
    }
   ],
   "source": [
    "a = 'this is a string'\n",
    "b = \"this is another string\"\n",
    "c = '''this is a \n",
    "mutiline string'''\n",
    "d = b'this is a byte string'\n",
    "e = u'this is a \\nunicode string'\n",
    "f = r'this is a \\nraw string'\n",
    "print(e)\n",
    "print(f)\n"
   ]
  },
  {
   "cell_type": "code",
   "execution_count": 10,
   "metadata": {},
   "outputs": [
    {
     "name": "stdout",
     "output_type": "stream",
     "text": [
      "C:\\Users\\Farhan\\Documents\\Data Analytics\\strings.ipynb\n"
     ]
    }
   ],
   "source": [
    "path = r'C:\\Users\\Farhan\\Documents\\Data Analytics\\strings.ipynb'\n",
    "print(path)"
   ]
  },
  {
   "cell_type": "code",
   "execution_count": 11,
   "metadata": {},
   "outputs": [
    {
     "name": "stdout",
     "output_type": "stream",
     "text": [
      "10\n"
     ]
    }
   ],
   "source": [
    "x = 10\n",
    "x = str(x)\n",
    "print(x)"
   ]
  },
  {
   "cell_type": "code",
   "execution_count": 1,
   "metadata": {},
   "outputs": [
    {
     "name": "stdout",
     "output_type": "stream",
     "text": [
      "str = digipodium\n",
      "str = d\n",
      "str = i\n",
      "str = m\n",
      "str = u\n"
     ]
    }
   ],
   "source": [
    "str = 'digipodium'\n",
    "print('str =', str)\n",
    "\n",
    "print('str =', str[0])\n",
    "\n",
    "print('str =', str[1])\n",
    "\n",
    "print('str =', str[-1])\n",
    "\n",
    "print('str =', str[-2])\n"
   ]
  },
  {
   "cell_type": "code",
   "execution_count": 9,
   "metadata": {},
   "outputs": [
    {
     "name": "stdout",
     "output_type": "stream",
     "text": [
      "pod\n"
     ]
    }
   ],
   "source": [
    "s = 'digipodium'\n",
    "slice1 = s[4:7]\n",
    "print(slice1)"
   ]
  },
  {
   "cell_type": "code",
   "execution_count": 11,
   "metadata": {},
   "outputs": [
    {
     "data": {
      "text/plain": [
       "'deenanath '"
      ]
     },
     "execution_count": 11,
     "metadata": {},
     "output_type": "execute_result"
    }
   ],
   "source": [
    "name = 'vijay deenanath chauhan'\n",
    "name[:5]\n",
    "name[-7:]\n",
    "name[-17:-7]\n"
   ]
  },
  {
   "cell_type": "code",
   "execution_count": 12,
   "metadata": {},
   "outputs": [
    {
     "data": {
      "text/plain": [
       "'nahuahc htananeed yajiv'"
      ]
     },
     "execution_count": 12,
     "metadata": {},
     "output_type": "execute_result"
    }
   ],
   "source": [
    "name[::-1]"
   ]
  },
  {
   "cell_type": "code",
   "execution_count": 53,
   "metadata": {},
   "outputs": [
    {
     "name": "stdout",
     "output_type": "stream",
     "text": [
      "2345\n"
     ]
    }
   ],
   "source": [
    "x = input('enter a number')\n",
    "if x.isnumeric():\n",
    "    x = int(x)\n",
    "    print(x)\n",
    "else :\n",
    "    print('invalid input')\n",
    " "
   ]
  },
  {
   "cell_type": "code",
   "execution_count": 19,
   "metadata": {},
   "outputs": [
    {
     "name": "stdout",
     "output_type": "stream",
     "text": [
      "hello farhan\n"
     ]
    }
   ],
   "source": [
    "x = input('enter a name')\n",
    "if x.isalnum():\n",
    "    print('hello',x)\n",
    "else :\n",
    "    print('invalid input')"
   ]
  },
  {
   "cell_type": "code",
   "execution_count": 21,
   "metadata": {},
   "outputs": [
    {
     "name": "stdout",
     "output_type": "stream",
     "text": [
      "special character %\n"
     ]
    }
   ],
   "source": [
    "x = input('enter a name')\n",
    "if not x.isalnum():\n",
    "    print('special character',x)\n",
    "else :\n",
    "    print('not special')"
   ]
  },
  {
   "cell_type": "code",
   "execution_count": 24,
   "metadata": {},
   "outputs": [
    {
     "name": "stdout",
     "output_type": "stream",
     "text": [
      "Welcome Mr. ajay\n",
      "Welcome Mrs. tina\n",
      "Welcome Mr. sanjay\n",
      "get out Er. ajay\n",
      "Welcome Mrs. rani\n"
     ]
    }
   ],
   "source": [
    "names = ['Mr. ajay','Mrs. tina','Mr. sanjay','Er. ajay','Mrs. rani']\n",
    "for name in names:\n",
    "    if name.startswith('Mr.') or name.startswith('Mrs.'):\n",
    "        print(f'Welcome {name}')\n",
    "    else:\n",
    "        print(f'get out {name}')"
   ]
  },
  {
   "cell_type": "code",
   "execution_count": 52,
   "metadata": {},
   "outputs": [
    {
     "name": "stdout",
     "output_type": "stream",
     "text": [
      "file10,abc.txt\n",
      "unknown10 {'xyz.doc'}\n",
      "file10,fg.py\n",
      "file10,hi.txt\n"
     ]
    }
   ],
   "source": [
    "files = ['abc.txt','xyz.doc','fg.py','hi.txt']\n",
    "for item in files:\n",
    "    if item.endswith('txt') or item.endswith('py'):\n",
    "        print(f'file{10},{item}')\n",
    "    else:\n",
    "        print(f'unknown{10}',{item})"
   ]
  },
  {
   "cell_type": "code",
   "execution_count": 31,
   "metadata": {},
   "outputs": [
    {
     "name": "stdout",
     "output_type": "stream",
     "text": [
      "JOURNEY TO THE WEST\n",
      "journey to the west\n",
      "Journey To The West\n",
      "Journey to the west\n",
      "JOURNEY TO THE WEST\n",
      "journey to the west\n"
     ]
    }
   ],
   "source": [
    "name = 'journey to the west'\n",
    "print(name.upper())\n",
    "print(name.lower())\n",
    "print(name.title())\n",
    "print(name.capitalize())\n",
    "print(name.swapcase())\n",
    "print(name.casefold())"
   ]
  },
  {
   "cell_type": "code",
   "execution_count": 37,
   "metadata": {},
   "outputs": [
    {
     "name": "stdout",
     "output_type": "stream",
     "text": [
      "3\n",
      "3\n"
     ]
    }
   ],
   "source": [
    "s = 'my name is farhan'\n",
    "print(s.count('a'))\n",
    "print(s.find('name'))"
   ]
  },
  {
   "cell_type": "code",
   "execution_count": 34,
   "metadata": {},
   "outputs": [
    {
     "name": "stdout",
     "output_type": "stream",
     "text": [
      "5\n"
     ]
    }
   ],
   "source": [
    "tv = s.count('a') + s.count('e') + s.count('i') + s.count('o') + s.count('u')\n",
    "print(tv)"
   ]
  },
  {
   "cell_type": "code",
   "execution_count": 40,
   "metadata": {},
   "outputs": [
    {
     "name": "stdout",
     "output_type": "stream",
     "text": [
      "3\n"
     ]
    },
    {
     "data": {
      "text/plain": [
       "'My name is farhan'"
      ]
     },
     "execution_count": 40,
     "metadata": {},
     "output_type": "execute_result"
    }
   ],
   "source": [
    "r = 'my name is farhan'\n",
    "print(r.find('name'))\n",
    "r.replace('my','My')"
   ]
  },
  {
   "cell_type": "code",
   "execution_count": 46,
   "metadata": {},
   "outputs": [
    {
     "data": {
      "text/plain": [
       "['my', 'name', 'is', 'farhan']"
      ]
     },
     "execution_count": 46,
     "metadata": {},
     "output_type": "execute_result"
    }
   ],
   "source": [
    "r.split()"
   ]
  },
  {
   "cell_type": "code",
   "execution_count": 48,
   "metadata": {},
   "outputs": [
    {
     "data": {
      "text/plain": [
       "'one two three four'"
      ]
     },
     "execution_count": 48,
     "metadata": {},
     "output_type": "execute_result"
    }
   ],
   "source": [
    "words = ['one','two','three','four']\n",
    "\" \".join(words)"
   ]
  },
  {
   "cell_type": "code",
   "execution_count": 51,
   "metadata": {},
   "outputs": [
    {
     "name": "stdout",
     "output_type": "stream",
     "text": [
      "     farhan     \n",
      "farhan\n"
     ]
    }
   ],
   "source": [
    "name = '     farhan     '\n",
    "print(name)\n",
    "print(name.strip())"
   ]
  },
  {
   "cell_type": "code",
   "execution_count": null,
   "metadata": {},
   "outputs": [],
   "source": []
  }
 ],
 "metadata": {
  "kernelspec": {
   "display_name": "base",
   "language": "python",
   "name": "python3"
  },
  "language_info": {
   "codemirror_mode": {
    "name": "ipython",
    "version": 3
   },
   "file_extension": ".py",
   "mimetype": "text/x-python",
   "name": "python",
   "nbconvert_exporter": "python",
   "pygments_lexer": "ipython3",
   "version": "3.10.10"
  },
  "orig_nbformat": 4
 },
 "nbformat": 4,
 "nbformat_minor": 2
}
