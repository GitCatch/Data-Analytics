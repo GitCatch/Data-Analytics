{
 "cells": [
  {
   "cell_type": "code",
   "execution_count": 1,
   "metadata": {},
   "outputs": [],
   "source": [
    "fruits = {'apple':2, 'banana' :3, 'orange' :4}"
   ]
  },
  {
   "cell_type": "code",
   "execution_count": 2,
   "metadata": {},
   "outputs": [],
   "source": [
    "grocery = {\n",
    "    'fruits':['apple','banana','orange'],\n",
    "    'vegetables':['potato','tomato','onion']\n",
    " }"
   ]
  },
  {
   "cell_type": "code",
   "execution_count": 28,
   "metadata": {},
   "outputs": [],
   "source": [
    "reports = {\n",
    "    'rajesh':{'english':98,'math':80,'science':79},\n",
    "    'suresh':{'english':98,'math':80,'science':79}\n",
    "}"
   ]
  },
  {
   "cell_type": "code",
   "execution_count": 4,
   "metadata": {},
   "outputs": [
    {
     "name": "stdout",
     "output_type": "stream",
     "text": [
      "{'apple': 2, 'banana': 3, 'orange': 4}\n",
      "{'fruits': ['apple', 'banana', 'orange'], 'vegetables': ['potato', 'tomato', 'onion']}\n",
      "{'rajesh': {'english': 98, 'math': 80, 'science': 79}}\n"
     ]
    }
   ],
   "source": [
    "print(fruits)\n",
    "print(grocery)\n",
    "print(reports)"
   ]
  },
  {
   "cell_type": "code",
   "execution_count": 5,
   "metadata": {},
   "outputs": [
    {
     "name": "stdout",
     "output_type": "stream",
     "text": [
      "{'apple': 2, 'banana': 3, 'orange': 4}\n",
      "{'fruits': ['apple', 'banana', 'orange'], 'vegetables': ['potato', 'tomato', 'onion']}\n",
      "{'rajesh': {'english': 98, 'math': 80, 'science': 79}}\n"
     ]
    }
   ],
   "source": [
    "from pprint import pp\n",
    "print(fruits)\n",
    "print(grocery)\n",
    "print(reports)"
   ]
  },
  {
   "cell_type": "code",
   "execution_count": 6,
   "metadata": {},
   "outputs": [
    {
     "data": {
      "text/plain": [
       "{'apple': 2, 'banana': 3, 'orange': 4}"
      ]
     },
     "execution_count": 6,
     "metadata": {},
     "output_type": "execute_result"
    }
   ],
   "source": [
    "fruits"
   ]
  },
  {
   "cell_type": "code",
   "execution_count": 7,
   "metadata": {},
   "outputs": [
    {
     "data": {
      "text/plain": [
       "2"
      ]
     },
     "execution_count": 7,
     "metadata": {},
     "output_type": "execute_result"
    }
   ],
   "source": [
    "fruits['apple'] #retrieve value from the dictionary"
   ]
  },
  {
   "cell_type": "code",
   "execution_count": 8,
   "metadata": {},
   "outputs": [],
   "source": [
    "fruits['apple'] = 10 #update value"
   ]
  },
  {
   "cell_type": "code",
   "execution_count": 9,
   "metadata": {},
   "outputs": [
    {
     "name": "stdout",
     "output_type": "stream",
     "text": [
      "{'apple': 10, 'banana': 3, 'orange': 4}\n"
     ]
    }
   ],
   "source": [
    "pp(fruits)"
   ]
  },
  {
   "cell_type": "code",
   "execution_count": 11,
   "metadata": {},
   "outputs": [
    {
     "name": "stdout",
     "output_type": "stream",
     "text": [
      "{'apple': 10, 'banana': 3, 'orange': 4, 'mango': 20}\n"
     ]
    }
   ],
   "source": [
    "fruits['mango'] = 20\n",
    "pp(fruits)"
   ]
  },
  {
   "cell_type": "code",
   "execution_count": 15,
   "metadata": {},
   "outputs": [
    {
     "name": "stdout",
     "output_type": "stream",
     "text": [
      "{'fruits': ['apple', 'banana', 'orange'],\n",
      " 'vegetables': ['potato', 'tomato', 'onion'],\n",
      " 'spices': ['turmeri', 'chilli', 'corriender']}\n"
     ]
    }
   ],
   "source": [
    "grocery['spices'] =['turmeri','chilli','corriender']\n",
    "pp(grocery)"
   ]
  },
  {
   "cell_type": "code",
   "execution_count": 17,
   "metadata": {},
   "outputs": [],
   "source": [
    "grocery['fruits'].append('mango')"
   ]
  },
  {
   "cell_type": "code",
   "execution_count": 26,
   "metadata": {},
   "outputs": [
    {
     "name": "stdout",
     "output_type": "stream",
     "text": [
      "{'fruits': ['apple', 'banana', 'orange', 'mango'],\n",
      " 'vegetables': ['potato', 'tomato', 'onion'],\n",
      " 'spices': ['turmeri', 'chilli', 'corriender']}\n"
     ]
    },
    {
     "data": {
      "text/plain": [
       "'mango'"
      ]
     },
     "execution_count": 26,
     "metadata": {},
     "output_type": "execute_result"
    }
   ],
   "source": [
    "pp(grocery)\n",
    "grocery['fruits'][0]\n",
    "grocery['fruits'][3]"
   ]
  },
  {
   "cell_type": "code",
   "execution_count": 20,
   "metadata": {},
   "outputs": [
    {
     "name": "stdout",
     "output_type": "stream",
     "text": [
      "{'rajesh': {'english': 98, 'math': 80, 'science': 79, 'evs': 90}}\n"
     ]
    }
   ],
   "source": [
    "reports['rajesh']['evs'] = 90\n",
    "pp(reports)"
   ]
  },
  {
   "cell_type": "code",
   "execution_count": 27,
   "metadata": {},
   "outputs": [
    {
     "data": {
      "text/plain": [
       "3"
      ]
     },
     "execution_count": 27,
     "metadata": {},
     "output_type": "execute_result"
    }
   ],
   "source": [
    "fruits.pop('banana')"
   ]
  },
  {
   "cell_type": "code",
   "execution_count": 34,
   "metadata": {},
   "outputs": [
    {
     "data": {
      "text/plain": [
       "dict_keys(['apple', 'orange', 'mango'])"
      ]
     },
     "execution_count": 34,
     "metadata": {},
     "output_type": "execute_result"
    }
   ],
   "source": [
    "fruits.keys() #all keys"
   ]
  },
  {
   "cell_type": "code",
   "execution_count": 35,
   "metadata": {},
   "outputs": [
    {
     "data": {
      "text/plain": [
       "dict_values([10, 4, 20])"
      ]
     },
     "execution_count": 35,
     "metadata": {},
     "output_type": "execute_result"
    }
   ],
   "source": [
    "fruits.values() #all values"
   ]
  },
  {
   "cell_type": "code",
   "execution_count": 36,
   "metadata": {},
   "outputs": [
    {
     "data": {
      "text/plain": [
       "dict_items([('apple', 10), ('orange', 4), ('mango', 20)])"
      ]
     },
     "execution_count": 36,
     "metadata": {},
     "output_type": "execute_result"
    }
   ],
   "source": [
    "fruits.items() #all key values pair"
   ]
  },
  {
   "cell_type": "code",
   "execution_count": 37,
   "metadata": {},
   "outputs": [
    {
     "name": "stdout",
     "output_type": "stream",
     "text": [
      "apple 10\n",
      "orange 4\n",
      "mango 20\n"
     ]
    }
   ],
   "source": [
    "#traversal\n",
    "for k,v in fruits.items():\n",
    "    print(k,v)"
   ]
  },
  {
   "cell_type": "code",
   "execution_count": 38,
   "metadata": {},
   "outputs": [
    {
     "data": {
      "text/plain": [
       "98"
      ]
     },
     "execution_count": 38,
     "metadata": {},
     "output_type": "execute_result"
    }
   ],
   "source": [
    "reports['suresh']['english']"
   ]
  },
  {
   "cell_type": "code",
   "execution_count": 39,
   "metadata": {},
   "outputs": [],
   "source": [
    "reports.get('ramesh')"
   ]
  },
  {
   "cell_type": "code",
   "execution_count": 40,
   "metadata": {},
   "outputs": [
    {
     "data": {
      "text/plain": [
       "'ye studend kabhi aya hi nhi'"
      ]
     },
     "execution_count": 40,
     "metadata": {},
     "output_type": "execute_result"
    }
   ],
   "source": [
    "reports.get('ramesh','ye studend kabhi aya hi nhi')"
   ]
  },
  {
   "cell_type": "code",
   "execution_count": 41,
   "metadata": {},
   "outputs": [
    {
     "data": {
      "text/plain": [
       "'ye studend roz aata hai'"
      ]
     },
     "execution_count": 41,
     "metadata": {},
     "output_type": "execute_result"
    }
   ],
   "source": [
    "reports.get('surash','ye studend roz aata hai')"
   ]
  },
  {
   "cell_type": "code",
   "execution_count": 44,
   "metadata": {},
   "outputs": [],
   "source": [
    "reports['sunita'] = {\n",
    "    'english':98,'math':97,'science':93\n",
    "    \n",
    "}"
   ]
  },
  {
   "cell_type": "code",
   "execution_count": 45,
   "metadata": {},
   "outputs": [
    {
     "name": "stdout",
     "output_type": "stream",
     "text": [
      "{'rajesh': {'english': 98, 'math': 80, 'science': 79},\n",
      " 'suresh': {'english': 98, 'math': 80, 'science': 79},\n",
      " 'sunita': {'english': 98, 'math': 97, 'science': 93}}\n"
     ]
    }
   ],
   "source": [
    "pp(reports)"
   ]
  },
  {
   "cell_type": "code",
   "execution_count": 47,
   "metadata": {},
   "outputs": [
    {
     "name": "stdout",
     "output_type": "stream",
     "text": [
      "rajesh\n",
      "98 in english\n",
      "80 in math\n",
      "79 in science\n",
      "------------------------------\n",
      "suresh\n",
      "98 in english\n",
      "80 in math\n",
      "79 in science\n",
      "------------------------------\n",
      "sunita\n",
      "98 in english\n",
      "97 in math\n",
      "93 in science\n",
      "------------------------------\n"
     ]
    }
   ],
   "source": [
    "for students, details in reports.items():\n",
    "    print(students)\n",
    "    for subjects, marks in details.items():\n",
    "        print(f'{marks} in {subjects}')\n",
    "    print('---'*10)"
   ]
  },
  {
   "cell_type": "code",
   "execution_count": 54,
   "metadata": {},
   "outputs": [
    {
     "name": "stdout",
     "output_type": "stream",
     "text": [
      "{'name': 'Mohd.Farhan', 'department': 'abc', 'salary': 50000, 'skills': ['Communication', 'Negotiation', 'Sales Strategy'], 'projects': {'pro_name': 'xyz', 'pro_du': 3, 'pro_tech': ['power bi']}}\n",
      "{'name': 'Akrama javed', 'department': 'xyz', 'salary': 60000, 'skills': ['p', 'q', 'r'], 'projects': {'pro_name': 'xyz', 'pro_du': 3, 'pro_tech': ['power bi']}}\n",
      "{'name': 'Mihir Tondon', 'department': 'tuv', 'salary': 55000, 'skills': ['f', 'g', 'h'], 'projects': {'pro_name': 'xyz', 'pro_du': 3, 'pro_tech': ['power bi']}}\n",
      "{'name': 'Ananya', 'department': 'hij', 'salary': 45000, 'skills': ['b', 'a', 'c'], 'projects': {'pro_name': 'xyz', 'pro_du': 3, 'pro_tech': ['power bi']}}\n",
      "{'name': 'Nitisha', 'department': 'klm', 'salary': 52000, 'skills': ['x', 'y', 'z'], 'projects': {'pro_name': 'xyz', 'pro_du': 3, 'pro_tech': ['power bi']}}\n"
     ]
    }
   ],
   "source": [
    "employees = {\n",
    "    \"emp1\": {\n",
    "        \"name\": \"Mohd.Farhan\",\n",
    "        \"department\": \"abc\",\n",
    "        \"salary\": 50000,\n",
    "        \"skills\": [\"Communication\", \"Negotiation\", \"Sales Strategy\"],\n",
    "        \"projects\": {\n",
    "            'pro_name':'xyz',\n",
    "            'pro_du': 3,\n",
    "            'pro_tech':['power bi']\n",
    "        }\n",
    "    },\n",
    "    \"emp2\": {\n",
    "        \"name\": \"Akrama javed\",\n",
    "        \"department\": \"xyz\",\n",
    "        \"salary\": 60000,\n",
    "        \"skills\": [\"p\", \"q\", \"r\"],\n",
    "        \"projects\": {\n",
    "            'pro_name':'xyz',\n",
    "            'pro_du': 3,\n",
    "            'pro_tech':['power bi']\n",
    "        }\n",
    "    },\n",
    "    \"emp3\": {\n",
    "        \"name\": \"Mihir Tondon\",\n",
    "        \"department\": \"tuv\",\n",
    "        \"salary\": 55000,\n",
    "        \"skills\": [\"f\", \"g\", \"h\"],\n",
    "        \"projects\": {\n",
    "            'pro_name':'xyz',\n",
    "            'pro_du': 3,\n",
    "            'pro_tech':['power bi']\n",
    "        }\n",
    "    },\n",
    "    \"emp4\": {\n",
    "        \"name\": \"Ananya\",\n",
    "        \"department\": \"hij\",\n",
    "        \"salary\": 45000,\n",
    "        \"skills\": [\"b\", \"a\", \"c\"],\n",
    "        \"projects\": {\n",
    "            'pro_name':'xyz',\n",
    "            'pro_du': 3,\n",
    "            'pro_tech':['power bi']\n",
    "        }\n",
    "    },\n",
    "    \"emp5\": {\n",
    "        \"name\": \"Nitisha\",\n",
    "        \"department\": \"klm\",\n",
    "        \"salary\": 52000,\n",
    "        \"skills\": [\"x\", \"y\", \"z\"],\n",
    "        \"projects\": {\n",
    "            'pro_name':'xyz',\n",
    "            'pro_du': 3,\n",
    "            'pro_tech':['power bi']\n",
    "    }\n",
    "}\n",
    "}\n",
    "\n",
    "print(employees[\"emp1\"])\n",
    "print(employees[\"emp2\"])\n",
    "print(employees[\"emp3\"])\n",
    "print(employees[\"emp4\"])\n",
    "print(employees[\"emp5\"])"
   ]
  },
  {
   "cell_type": "code",
   "execution_count": null,
   "metadata": {},
   "outputs": [],
   "source": []
  }
 ],
 "metadata": {
  "kernelspec": {
   "display_name": "base",
   "language": "python",
   "name": "python3"
  },
  "language_info": {
   "codemirror_mode": {
    "name": "ipython",
    "version": 3
   },
   "file_extension": ".py",
   "mimetype": "text/x-python",
   "name": "python",
   "nbconvert_exporter": "python",
   "pygments_lexer": "ipython3",
   "version": "3.10.10"
  },
  "orig_nbformat": 4
 },
 "nbformat": 4,
 "nbformat_minor": 2
}
